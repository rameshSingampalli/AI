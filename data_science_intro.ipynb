{
 "cells": [
  {
   "cell_type": "markdown",
   "id": "171e618c",
   "metadata": {},
   "source": [
    "# 🧠 Welcome to Data Science with Python\n",
    "This notebook will guide you through the basics of Python, pandas, and data visualization."
   ]
  },
  {
   "cell_type": "markdown",
   "id": "3ab4789b",
   "metadata": {},
   "source": [
    "## 🔢 Python Basics\n",
    "Learn basic syntax, variables, and operations."
   ]
  },
  {
   "cell_type": "code",
   "execution_count": null,
   "id": "7762e47e",
   "metadata": {},
   "outputs": [],
   "source": [
    "# Basic arithmetic\n",
    "a = 10\n",
    "b = 5\n",
    "print('Sum:', a + b)\n",
    "print('Product:', a * b)"
   ]
  },
  {
   "cell_type": "markdown",
   "id": "ffebbede",
   "metadata": {},
   "source": [
    "## 📊 Data Manipulation with pandas\n",
    "Explore tabular data using pandas."
   ]
  },
  {
   "cell_type": "code",
   "execution_count": null,
   "id": "ef86e368",
   "metadata": {},
   "outputs": [],
   "source": [
    "import pandas as pd\n",
    "\n",
    "# Create a simple DataFrame\n",
    "data = {'Name': ['Alice', 'Bob', 'Charlie'], 'Age': [25, 30, 35]}\n",
    "df = pd.DataFrame(data)\n",
    "print(df)"
   ]
  },
  {
   "cell_type": "markdown",
   "id": "140fbe73",
   "metadata": {},
   "source": [
    "## 📈 Data Visualization with matplotlib and seaborn\n",
    "Create charts and graphs to understand data."
   ]
  },
  {
   "cell_type": "code",
   "execution_count": null,
   "id": "682c4e4c",
   "metadata": {},
   "outputs": [],
   "source": [
    "import matplotlib.pyplot as plt\n",
    "import seaborn as sns\n",
    "\n",
    "# Sample data\n",
    "ages = [25, 30, 35, 40, 45]\n",
    "salaries = [40000, 50000, 60000, 65000, 70000]\n",
    "\n",
    "# Line plot\n",
    "plt.plot(ages, salaries)\n",
    "plt.title('Age vs Salary')\n",
    "plt.xlabel('Age')\n",
    "plt.ylabel('Salary')\n",
    "plt.show()"
   ]
  },
  {
   "cell_type": "markdown",
   "id": "69ce718a",
   "metadata": {},
   "source": [
    "## ✅ Next Steps\n",
    "Try modifying the code above and explore more datasets!"
   ]
  }
 ],
 "metadata": {},
 "nbformat": 4,
 "nbformat_minor": 5
}
