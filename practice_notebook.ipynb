{
 "cells": [
  {
   "cell_type": "markdown",
   "id": "4a32f2a6",
   "metadata": {},
   "source": [
    "# Chapter 1\n",
    "\n",
    "Content for chapter 1."
   ]
  },
  {
   "cell_type": "markdown",
   "id": "dec6cd3a",
   "metadata": {},
   "source": [
    "# Chapter 2\n",
    "\n",
    "Content for chapter 2."
   ]
  }
 ],
 "metadata": {},
 "nbformat": 4,
 "nbformat_minor": 5
}
